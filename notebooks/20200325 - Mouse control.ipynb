{
 "cells": [
  {
   "cell_type": "code",
   "execution_count": 1,
   "metadata": {
    "ExecuteTime": {
     "end_time": "2020-03-24T18:59:03.621415Z",
     "start_time": "2020-03-24T18:58:59.914358Z"
    }
   },
   "outputs": [],
   "source": [
    "# Base Data Science snippet\n",
    "import pandas as pd\n",
    "import numpy as np\n",
    "import matplotlib.pyplot as plt\n",
    "import os\n",
    "import time\n",
    "from tqdm import tqdm_notebook\n",
    "\n",
    "%matplotlib inline\n",
    "%load_ext autoreload\n",
    "%autoreload 2"
   ]
  },
  {
   "cell_type": "code",
   "execution_count": 15,
   "metadata": {
    "ExecuteTime": {
     "end_time": "2020-03-24T19:04:34.363750Z",
     "start_time": "2020-03-24T19:04:34.248871Z"
    }
   },
   "outputs": [],
   "source": [
    "import win32gui\n",
    "import win32api"
   ]
  },
  {
   "cell_type": "code",
   "execution_count": 9,
   "metadata": {
    "ExecuteTime": {
     "end_time": "2020-03-24T19:01:42.063439Z",
     "start_time": "2020-03-24T19:01:41.942024Z"
    }
   },
   "outputs": [],
   "source": [
    "flags, hcursor, (x,y) = win32gui.GetCursorInfo()"
   ]
  },
  {
   "cell_type": "code",
   "execution_count": 16,
   "metadata": {
    "ExecuteTime": {
     "end_time": "2020-03-24T19:04:51.456086Z",
     "start_time": "2020-03-24T19:04:51.337003Z"
    }
   },
   "outputs": [
    {
     "name": "stdout",
     "output_type": "stream",
     "text": [
      "Width = 1536\n",
      "Height = 864\n"
     ]
    }
   ],
   "source": [
    "from win32api import GetSystemMetrics\n",
    "\n",
    "print(\"Width =\", GetSystemMetrics(0))\n",
    "print(\"Height =\", GetSystemMetrics(1))"
   ]
  },
  {
   "cell_type": "code",
   "execution_count": 165,
   "metadata": {
    "ExecuteTime": {
     "end_time": "2020-03-25T10:28:17.340685Z",
     "start_time": "2020-03-25T10:28:17.252286Z"
    }
   },
   "outputs": [],
   "source": [
    "import time\n",
    "import itertools\n",
    "from PIL import Image\n",
    "\n",
    "def store_mouse_movement(duration = 30,pad = 2):\n",
    "    width,height = GetSystemMetrics(0),GetSystemMetrics(1)\n",
    "    capture = np.zeros((width,height))\n",
    "    \n",
    "    s = time.time()\n",
    "    i = 1\n",
    "    \n",
    "    x_range = lambda x : list(range(max([0,x-pad]),min([width,x+pad])))\n",
    "    y_range = lambda y : list(range(max([0,y-pad]),min([height,y+pad])))\n",
    "    arr_range = lambda x,y : np.array(list(itertools.product(x_range(x),y_range(y))))\n",
    "    \n",
    "    while time.time() - s < duration:\n",
    "        _, _, (x,y) = win32gui.GetCursorInfo()\n",
    "        arr = arr_range(x,y)\n",
    "        capture[arr[:,0],arr[:,1]] = 1\n",
    "        i += 1\n",
    "        \n",
    "        \n",
    "        \n",
    "    return capture,i"
   ]
  },
  {
   "cell_type": "code",
   "execution_count": 166,
   "metadata": {
    "ExecuteTime": {
     "end_time": "2020-03-25T10:28:20.655332Z",
     "start_time": "2020-03-25T10:28:17.562711Z"
    }
   },
   "outputs": [],
   "source": [
    "c,i = store_mouse_movement(duration = 3,pad = 10)"
   ]
  },
  {
   "cell_type": "code",
   "execution_count": 167,
   "metadata": {
    "ExecuteTime": {
     "end_time": "2020-03-25T10:28:22.060300Z",
     "start_time": "2020-03-25T10:28:21.774056Z"
    }
   },
   "outputs": [
    {
     "data": {
      "image/png": "[encoded data removed]",
      "text/plain": [
       "<Figure size 432x288 with 1 Axes>"
      ]
     },
     "metadata": {
      "needs_background": "light"
     },
     "output_type": "display_data"
    }
   ],
   "source": [
    "plt.imshow(c.T)\n",
    "plt.show()"
   ]
  },
  {
   "cell_type": "code",
   "execution_count": null,
   "metadata": {},
   "outputs": [],
   "source": []
  }
 ],
 "metadata": {
  "kernelspec": {
   "display_name": "Python 3",
   "language": "python",
   "name": "python3"
  },
  "language_info": {
   "codemirror_mode": {
    "name": "ipython",
    "version": 3
   },
   "file_extension": ".py",
   "mimetype": "text/x-python",
   "name": "python",
   "nbconvert_exporter": "python",
   "pygments_lexer": "ipython3",
   "version": "3.7.4"
  },
  "toc": {
   "base_numbering": 1,
   "nav_menu": {},
   "number_sections": true,
   "sideBar": true,
   "skip_h1_title": false,
   "title_cell": "Table of Contents",
   "title_sidebar": "Contents",
   "toc_cell": false,
   "toc_position": {},
   "toc_section_display": true,
   "toc_window_display": false
  }
 },
 "nbformat": 4,
 "nbformat_minor": 2
}
