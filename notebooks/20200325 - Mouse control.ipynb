{
 "cells": [
  {
   "cell_type": "code",
   "execution_count": 1,
   "metadata": {
    "ExecuteTime": {
     "end_time": "2020-03-28T17:23:53.950289Z",
     "start_time": "2020-03-28T17:23:52.622236Z"
    },
    "scrolled": true
   },
   "outputs": [],
   "source": [
    "# Base Data Science snippet\n",
    "import pandas as pd\n",
    "import numpy as np\n",
    "import matplotlib.pyplot as plt\n",
    "import os\n",
    "import time\n",
    "from tqdm import tqdm_notebook\n",
    "\n",
    "%matplotlib inline\n",
    "%load_ext autoreload\n",
    "%autoreload 2"
   ]
  },
  {
   "cell_type": "markdown",
   "metadata": {},
   "source": [
    "# Spotify control"
   ]
  },
  {
   "cell_type": "code",
   "execution_count": 2,
   "metadata": {
    "ExecuteTime": {
     "end_time": "2020-03-28T17:23:54.055798Z",
     "start_time": "2020-03-28T17:23:53.954060Z"
    }
   },
   "outputs": [],
   "source": [
    "import os"
   ]
  },
  {
   "cell_type": "code",
   "execution_count": 3,
   "metadata": {
    "ExecuteTime": {
     "end_time": "2020-03-28T17:23:56.364732Z",
     "start_time": "2020-03-28T17:23:56.277927Z"
    }
   },
   "outputs": [],
   "source": [
    "CLIENT_ID = os.environ[\"SPOTIFY_CLIENT_ID\"]\n",
    "CLIENT_SECRET = os.environ[\"SPOTIFY_CLIENT_SECRET\"]\n",
    "REDIRECT_URI = \"http://localhost:5000/callback/q\"\n",
    "scope = 'user-modify-playback-state'\n",
    "username = \"11140368243\""
   ]
  },
  {
   "cell_type": "code",
   "execution_count": 7,
   "metadata": {
    "ExecuteTime": {
     "end_time": "2020-03-28T14:59:51.062297Z",
     "start_time": "2020-03-28T14:59:49.643781Z"
    }
   },
   "outputs": [],
   "source": [
    "import spotipy\n",
    "import spotipy.util as util\n",
    "from json.decoder import JSONDecodeError"
   ]
  },
  {
   "cell_type": "code",
   "execution_count": 9,
   "metadata": {
    "ExecuteTime": {
     "end_time": "2020-03-28T15:02:16.052267Z",
     "start_time": "2020-03-28T15:01:18.370368Z"
    }
   },
   "outputs": [
    {
     "name": "stdout",
     "output_type": "stream",
     "text": [
      "\n",
      "\n",
      "            User authentication requires interaction with your\n",
      "            web browser. Once you enter your credentials and\n",
      "            give authorization, you will be redirected to\n",
      "            a url.  Paste that url you were directed to to\n",
      "            complete the authorization.\n",
      "\n",
      "        \n",
      "Opened https://accounts.spotify.com/authorize?client_id=ca95409a9ae5414cb17d273f08456be6&response_type=code&redirect_uri=http%3A%2F%2Flocalhost%3A5000%2Fcallback%2Fq&scope=user-modify-playback-state in your browser\n",
      "\n",
      "\n",
      "Enter the URL you were redirected to: http://localhost:5000/callback/q?code=AQCtja98A4lbt2dDNIZQnmOovYXlIf6yfvLiNGm9axqC9x5pkTDR-ln-_2NyuP6-VhEqvv6AjEpuWD3_iG0g5J1Ve7-El0H-YupBs5iYm9TAerijDYSlJ-98j2uttjkc1j9d7ycfCx1eqYJ8ezIEswX2VHnZRhQHVeLiBckMey5K8yRv0Q1Z6_eZL81HD4nflpeLSEwvsItxDhSDrDrW3JQ7AHNhrFHQYReVbfDfznK7_Q\n",
      "\n",
      "\n"
     ]
    }
   ],
   "source": [
    "token = util.prompt_for_user_token(username,\n",
    "                           scope,\n",
    "                           client_id=CLIENT_ID,\n",
    "                           client_secret=CLIENT_SECRET,\n",
    "                           redirect_uri=REDIRECT_URI)"
   ]
  },
  {
   "cell_type": "code",
   "execution_count": 11,
   "metadata": {
    "ExecuteTime": {
     "end_time": "2020-03-28T15:02:47.766057Z",
     "start_time": "2020-03-28T15:02:47.622796Z"
    }
   },
   "outputs": [],
   "source": [
    "sp = spotipy.Spotify(auth=token)"
   ]
  },
  {
   "cell_type": "code",
   "execution_count": 14,
   "metadata": {
    "ExecuteTime": {
     "end_time": "2020-03-28T15:03:21.158049Z",
     "start_time": "2020-03-28T15:03:20.370379Z"
    }
   },
   "outputs": [],
   "source": [
    "sp.next_track()"
   ]
  },
  {
   "cell_type": "markdown",
   "metadata": {},
   "source": [
    "# Store images"
   ]
  },
  {
   "cell_type": "code",
   "execution_count": 15,
   "metadata": {
    "ExecuteTime": {
     "end_time": "2020-03-28T15:05:01.067095Z",
     "start_time": "2020-03-28T15:05:00.922479Z"
    }
   },
   "outputs": [],
   "source": [
    "import datetime"
   ]
  },
  {
   "cell_type": "code",
   "execution_count": 18,
   "metadata": {
    "ExecuteTime": {
     "end_time": "2020-03-28T15:05:28.789428Z",
     "start_time": "2020-03-28T15:05:28.676731Z"
    }
   },
   "outputs": [],
   "source": [
    "import time"
   ]
  },
  {
   "cell_type": "code",
   "execution_count": 21,
   "metadata": {
    "ExecuteTime": {
     "end_time": "2020-03-28T15:05:49.352923Z",
     "start_time": "2020-03-28T15:05:49.203062Z"
    }
   },
   "outputs": [
    {
     "data": {
      "text/plain": [
       "'1585407949.png'"
      ]
     },
     "execution_count": 21,
     "metadata": {},
     "output_type": "execute_result"
    }
   ],
   "source": [
    "f\"{int(time.time())}.png\""
   ]
  },
  {
   "cell_type": "code",
   "execution_count": 25,
   "metadata": {
    "ExecuteTime": {
     "end_time": "2020-03-28T15:11:34.058339Z",
     "start_time": "2020-03-28T15:11:33.791227Z"
    }
   },
   "outputs": [],
   "source": [
    "import sys\n",
    "sys.path.append(\"C:/git/mouse-control/\")\n",
    "\n",
    "from mousecontrol.listener import MouseMoveListener"
   ]
  },
  {
   "cell_type": "code",
   "execution_count": 26,
   "metadata": {
    "ExecuteTime": {
     "end_time": "2020-03-28T15:11:34.594186Z",
     "start_time": "2020-03-28T15:11:34.436298Z"
    }
   },
   "outputs": [],
   "source": [
    "listener = MouseMoveListener()"
   ]
  },
  {
   "cell_type": "code",
   "execution_count": 35,
   "metadata": {
    "ExecuteTime": {
     "end_time": "2020-03-28T15:28:19.861206Z",
     "start_time": "2020-03-28T15:22:55.094894Z"
    },
    "collapsed": true
   },
   "outputs": [
    {
     "name": "stdout",
     "output_type": "stream",
     "text": [
      "Start recording\n",
      "... Stop recording\n",
      "Start recording\n",
      "... Stop recording\n",
      "Start recording\n",
      "... Stop recording\n",
      "Start recording\n",
      "... Stop recording\n",
      "Start recording\n",
      "... Stop recording\n",
      "Start recording\n",
      "... Stop recording\n",
      "Start recording\n",
      "... Stop recording\n",
      "Start recording\n",
      "... Stop recording\n",
      "Start recording\n",
      "... Stop recording\n",
      "Start recording\n",
      "... Stop recording\n",
      "Start recording\n",
      "... Stop recording\n",
      "Start recording\n",
      "... Stop recording\n",
      "Start recording\n",
      "... Stop recording\n",
      "Start recording\n",
      "... Stop recording\n",
      "Start recording\n",
      "... Stop recording\n",
      "Start recording\n",
      "... Stop recording\n",
      "Start recording\n",
      "... Stop recording\n",
      "Start recording\n",
      "... Stop recording\n",
      "Start recording\n",
      "... Stop recording\n",
      "Start recording\n",
      "... Stop recording\n",
      "Start recording\n",
      "... Stop recording\n",
      "Start recording\n",
      "... Stop recording\n",
      "Start recording\n",
      "... Stop recording\n",
      "Start recording\n",
      "... Stop recording\n",
      "Start recording\n",
      "... Stop recording\n",
      "Start recording\n",
      "... Stop recording\n",
      "Start recording\n",
      "... Stop recording\n",
      "Start recording\n",
      "... Stop recording\n",
      "Start recording\n",
      "... Stop recording\n",
      "Start recording\n",
      "... Stop recording\n",
      "Start recording\n",
      "... Stop recording\n",
      "Start recording\n",
      "... Stop recording\n",
      "Start recording\n",
      "... Stop recording\n",
      "Start recording\n",
      "... Stop recording\n",
      "Start recording\n",
      "... Stop recording\n",
      "Start recording\n",
      "... Stop recording\n",
      "Start recording\n",
      "... Stop recording\n",
      "Start recording\n",
      "... Stop recording\n",
      "Start recording\n",
      "... Stop recording\n",
      "Start recording\n",
      "... Stop recording\n",
      "Start recording\n",
      "... Stop recording\n",
      "Start recording\n",
      "... Stop recording\n",
      "Start recording\n",
      "... Stop recording\n",
      "Start recording\n",
      "... Stop recording\n",
      "Start recording\n",
      "... Stop recording\n",
      "Start recording\n",
      "... Stop recording\n",
      "Start recording\n",
      "... Stop recording\n",
      "Start recording\n",
      "... Stop recording\n",
      "Start recording\n",
      "... Stop recording\n",
      "Start recording\n",
      "... Stop recording\n",
      "Start recording\n"
     ]
    },
    {
     "ename": "KeyboardInterrupt",
     "evalue": "",
     "output_type": "error",
     "traceback": [
      "\u001b[1;31m---------------------------------------------------------------------------\u001b[0m",
      "\u001b[1;31mKeyboardInterrupt\u001b[0m                         Traceback (most recent call last)",
      "\u001b[1;32m<ipython-input-35-a5d1f550f610>\u001b[0m in \u001b[0;36m<module>\u001b[1;34m\u001b[0m\n\u001b[1;32m----> 1\u001b[1;33m \u001b[0mc\u001b[0m \u001b[1;33m=\u001b[0m \u001b[0mlistener\u001b[0m\u001b[1;33m.\u001b[0m\u001b[0mlisten\u001b[0m\u001b[1;33m(\u001b[0m\u001b[1;36m2000\u001b[0m\u001b[1;33m,\u001b[0m\u001b[0mmax_stop\u001b[0m \u001b[1;33m=\u001b[0m \u001b[1;36m1\u001b[0m\u001b[1;33m,\u001b[0m\u001b[0msave\u001b[0m \u001b[1;33m=\u001b[0m \u001b[1;34m\"shapes/random\"\u001b[0m\u001b[1;33m)\u001b[0m\u001b[1;33m\u001b[0m\u001b[1;33m\u001b[0m\u001b[0m\n\u001b[0m",
      "\u001b[1;32mC:/git/mouse-control\\mousecontrol\\listener.py\u001b[0m in \u001b[0;36mlisten\u001b[1;34m(self, duration, pad, max_stop, save, resize)\u001b[0m\n\u001b[0;32m     80\u001b[0m \u001b[1;33m\u001b[0m\u001b[0m\n\u001b[0;32m     81\u001b[0m             \u001b[1;31m# Append to the array\u001b[0m\u001b[1;33m\u001b[0m\u001b[1;33m\u001b[0m\u001b[1;33m\u001b[0m\u001b[0m\n\u001b[1;32m---> 82\u001b[1;33m             \u001b[0mcapture\u001b[0m\u001b[1;33m[\u001b[0m\u001b[0mx_arr\u001b[0m\u001b[1;33m,\u001b[0m\u001b[0my_arr\u001b[0m\u001b[1;33m]\u001b[0m \u001b[1;33m=\u001b[0m \u001b[1;36m1\u001b[0m\u001b[1;33m\u001b[0m\u001b[1;33m\u001b[0m\u001b[0m\n\u001b[0m\u001b[0;32m     83\u001b[0m \u001b[1;33m\u001b[0m\u001b[0m\n\u001b[0;32m     84\u001b[0m             \u001b[1;32mif\u001b[0m \u001b[0mi\u001b[0m \u001b[1;33m>\u001b[0m \u001b[1;36m1\u001b[0m\u001b[1;33m:\u001b[0m\u001b[1;33m\u001b[0m\u001b[1;33m\u001b[0m\u001b[0m\n",
      "\u001b[1;31mKeyboardInterrupt\u001b[0m: "
     ]
    }
   ],
   "source": [
    "c = listener.listen(2000,max_stop = 1,save = \"shapes/random\")"
   ]
  },
  {
   "cell_type": "markdown",
   "metadata": {},
   "source": [
    "# Deep Learning"
   ]
  },
  {
   "cell_type": "markdown",
   "metadata": {},
   "source": [
    "- https://docs.fast.ai/tutorial.data.html\n",
    "- https://docs.fast.ai/vision.html"
   ]
  },
  {
   "cell_type": "code",
   "execution_count": 3,
   "metadata": {
    "ExecuteTime": {
     "end_time": "2020-03-28T16:48:13.572221Z",
     "start_time": "2020-03-28T16:48:09.538708Z"
    }
   },
   "outputs": [],
   "source": [
    "from fastai.vision import *"
   ]
  },
  {
   "cell_type": "code",
   "execution_count": 4,
   "metadata": {
    "ExecuteTime": {
     "end_time": "2020-03-28T16:48:14.518302Z",
     "start_time": "2020-03-28T16:48:14.272078Z"
    }
   },
   "outputs": [],
   "source": [
    "tfms = get_transforms(\n",
    "    do_flip=False,\n",
    "#     max_lighting=None,\n",
    "#     max_warp = None,\n",
    "#     max_zoom = 1,\n",
    "#     max_rotate = None,\n",
    ")"
   ]
  },
  {
   "cell_type": "code",
   "execution_count": 5,
   "metadata": {
    "ExecuteTime": {
     "end_time": "2020-03-28T16:48:19.446679Z",
     "start_time": "2020-03-28T16:48:19.184191Z"
    }
   },
   "outputs": [
    {
     "data": {
      "text/html": [
       "<div>\n",
       "<style scoped>\n",
       "    .dataframe tbody tr th:only-of-type {\n",
       "        vertical-align: middle;\n",
       "    }\n",
       "\n",
       "    .dataframe tbody tr th {\n",
       "        vertical-align: top;\n",
       "    }\n",
       "\n",
       "    .dataframe thead th {\n",
       "        text-align: right;\n",
       "    }\n",
       "</style>\n",
       "<table border=\"1\" class=\"dataframe\">\n",
       "  <thead>\n",
       "    <tr style=\"text-align: right;\">\n",
       "      <th></th>\n",
       "      <th>name</th>\n",
       "      <th>label</th>\n",
       "    </tr>\n",
       "  </thead>\n",
       "  <tbody>\n",
       "    <tr>\n",
       "      <td>0</td>\n",
       "      <td>random\\1585408333.png</td>\n",
       "      <td>0</td>\n",
       "    </tr>\n",
       "    <tr>\n",
       "      <td>1</td>\n",
       "      <td>random\\1585408336.png</td>\n",
       "      <td>0</td>\n",
       "    </tr>\n",
       "    <tr>\n",
       "      <td>2</td>\n",
       "      <td>random\\1585408349.png</td>\n",
       "      <td>0</td>\n",
       "    </tr>\n",
       "    <tr>\n",
       "      <td>3</td>\n",
       "      <td>random\\1585408403.png</td>\n",
       "      <td>0</td>\n",
       "    </tr>\n",
       "    <tr>\n",
       "      <td>4</td>\n",
       "      <td>random\\1585408407.png</td>\n",
       "      <td>0</td>\n",
       "    </tr>\n",
       "  </tbody>\n",
       "</table>\n",
       "</div>"
      ],
      "text/plain": [
       "                    name  label\n",
       "0  random\\1585408333.png      0\n",
       "1  random\\1585408336.png      0\n",
       "2  random\\1585408349.png      0\n",
       "3  random\\1585408403.png      0\n",
       "4  random\\1585408407.png      0"
      ]
     },
     "execution_count": 5,
     "metadata": {},
     "output_type": "execute_result"
    }
   ],
   "source": [
    "from pathlib import Path\n",
    "\n",
    "folder = Path(\"c:/git/mouse-control/notebooks/shapes\")\n",
    "\n",
    "dataset = {\n",
    "    0:[\"random\",\"circle\"],\n",
    "    1:[\"play\"]\n",
    "}\n",
    "df = []\n",
    "for k,v in dataset.items():\n",
    "    for cat_folder in v:\n",
    "        files = list((folder/cat_folder).glob(\"*.png\"))\n",
    "        files = [{\"name\":str(x.relative_to(folder)),\"label\":k} for x in files]\n",
    "        df.extend(files)\n",
    "df = pd.DataFrame(df)\n",
    "df.head()"
   ]
  },
  {
   "cell_type": "code",
   "execution_count": 7,
   "metadata": {
    "ExecuteTime": {
     "end_time": "2020-03-28T16:48:30.881000Z",
     "start_time": "2020-03-28T16:48:30.078663Z"
    }
   },
   "outputs": [],
   "source": [
    "data = (ImageList.from_df(df,folder)\n",
    "        .split_by_rand_pct(0.2)\n",
    "        .label_from_df()\n",
    "        .transform(tfms, size=100)\n",
    "        .databunch()\n",
    "        .normalize(imagenet_stats)\n",
    "       )"
   ]
  },
  {
   "cell_type": "code",
   "execution_count": 8,
   "metadata": {
    "ExecuteTime": {
     "end_time": "2020-03-28T16:48:34.106961Z",
     "start_time": "2020-03-28T16:48:31.893328Z"
    }
   },
   "outputs": [
    {
     "data": {
      "image/png": "[encoded data removed]",
      "text/plain": [
       "<Figure size 720x720 with 25 Axes>"
      ]
     },
     "metadata": {
      "needs_background": "light"
     },
     "output_type": "display_data"
    }
   ],
   "source": [
    "data.show_batch(rows=5, figsize=(10,10))"
   ]
  },
  {
   "cell_type": "code",
   "execution_count": 9,
   "metadata": {
    "ExecuteTime": {
     "end_time": "2020-03-28T17:06:06.892888Z",
     "start_time": "2020-03-28T16:48:54.039265Z"
    }
   },
   "outputs": [
    {
     "data": {
      "text/html": [
       "<table border=\"1\" class=\"dataframe\">\n",
       "  <thead>\n",
       "    <tr style=\"text-align: left;\">\n",
       "      <th>epoch</th>\n",
       "      <th>train_loss</th>\n",
       "      <th>valid_loss</th>\n",
       "      <th>accuracy</th>\n",
       "      <th>time</th>\n",
       "    </tr>\n",
       "  </thead>\n",
       "  <tbody>\n",
       "    <tr>\n",
       "      <td>0</td>\n",
       "      <td>1.267987</td>\n",
       "      <td>10.377047</td>\n",
       "      <td>0.107143</td>\n",
       "      <td>01:42</td>\n",
       "    </tr>\n",
       "    <tr>\n",
       "      <td>1</td>\n",
       "      <td>1.352933</td>\n",
       "      <td>0.729218</td>\n",
       "      <td>0.857143</td>\n",
       "      <td>01:43</td>\n",
       "    </tr>\n",
       "    <tr>\n",
       "      <td>2</td>\n",
       "      <td>1.238084</td>\n",
       "      <td>2.534070</td>\n",
       "      <td>0.392857</td>\n",
       "      <td>01:40</td>\n",
       "    </tr>\n",
       "    <tr>\n",
       "      <td>3</td>\n",
       "      <td>0.971856</td>\n",
       "      <td>8.987492</td>\n",
       "      <td>0.178571</td>\n",
       "      <td>01:26</td>\n",
       "    </tr>\n",
       "    <tr>\n",
       "      <td>4</td>\n",
       "      <td>0.882767</td>\n",
       "      <td>16.084938</td>\n",
       "      <td>0.107143</td>\n",
       "      <td>01:40</td>\n",
       "    </tr>\n",
       "    <tr>\n",
       "      <td>5</td>\n",
       "      <td>0.791270</td>\n",
       "      <td>17.688192</td>\n",
       "      <td>0.107143</td>\n",
       "      <td>01:44</td>\n",
       "    </tr>\n",
       "    <tr>\n",
       "      <td>6</td>\n",
       "      <td>0.732638</td>\n",
       "      <td>13.896832</td>\n",
       "      <td>0.142857</td>\n",
       "      <td>01:41</td>\n",
       "    </tr>\n",
       "    <tr>\n",
       "      <td>7</td>\n",
       "      <td>0.729957</td>\n",
       "      <td>4.926063</td>\n",
       "      <td>0.428571</td>\n",
       "      <td>01:37</td>\n",
       "    </tr>\n",
       "    <tr>\n",
       "      <td>8</td>\n",
       "      <td>0.695289</td>\n",
       "      <td>1.736715</td>\n",
       "      <td>0.535714</td>\n",
       "      <td>01:58</td>\n",
       "    </tr>\n",
       "    <tr>\n",
       "      <td>9</td>\n",
       "      <td>0.668559</td>\n",
       "      <td>2.123896</td>\n",
       "      <td>0.500000</td>\n",
       "      <td>01:55</td>\n",
       "    </tr>\n",
       "  </tbody>\n",
       "</table>"
      ],
      "text/plain": [
       "<IPython.core.display.HTML object>"
      ]
     },
     "metadata": {},
     "output_type": "display_data"
    }
   ],
   "source": [
    "learn = cnn_learner(data, models.resnet18, metrics=accuracy)\n",
    "learn.fit(10,1e-2)\n",
    "learn.save('mini_train')"
   ]
  },
  {
   "cell_type": "markdown",
   "metadata": {
    "ExecuteTime": {
     "end_time": "2020-03-28T16:46:18.840428Z",
     "start_time": "2020-03-28T16:41:46.054Z"
    }
   },
   "source": [
    "interp = ClassificationInterpretation.from_learner(learn)"
   ]
  },
  {
   "cell_type": "code",
   "execution_count": null,
   "metadata": {
    "ExecuteTime": {
     "end_time": "2020-03-28T16:46:18.842422Z",
     "start_time": "2020-03-28T16:41:46.502Z"
    }
   },
   "outputs": [],
   "source": [
    "interp.plot_top_losses(9, figsize=(6,6))"
   ]
  },
  {
   "cell_type": "code",
   "execution_count": null,
   "metadata": {
    "ExecuteTime": {
     "end_time": "2020-03-28T16:46:18.844417Z",
     "start_time": "2020-03-28T16:41:48.456Z"
    }
   },
   "outputs": [],
   "source": [
    "interp.plot_confusion_matrix()"
   ]
  },
  {
   "cell_type": "markdown",
   "metadata": {},
   "source": [
    "# Training with Keras"
   ]
  },
  {
   "cell_type": "code",
   "execution_count": 10,
   "metadata": {
    "ExecuteTime": {
     "end_time": "2020-03-28T17:23:44.517077Z",
     "start_time": "2020-03-28T17:23:39.113837Z"
    }
   },
   "outputs": [
    {
     "name": "stderr",
     "output_type": "stream",
     "text": [
      "[autoreload of scipy.stats.stats failed: Traceback (most recent call last):\n",
      "  File \"C:\\ProgramData\\Anaconda3\\lib\\site-packages\\IPython\\extensions\\autoreload.py\", line 245, in check\n",
      "    superreload(m, reload, self.old_objects)\n",
      "  File \"C:\\ProgramData\\Anaconda3\\lib\\site-packages\\IPython\\extensions\\autoreload.py\", line 434, in superreload\n",
      "    module = reload(module)\n",
      "  File \"C:\\ProgramData\\Anaconda3\\lib\\imp.py\", line 314, in reload\n",
      "    return importlib.reload(module)\n",
      "  File \"C:\\ProgramData\\Anaconda3\\lib\\importlib\\__init__.py\", line 169, in reload\n",
      "    _bootstrap._exec(spec, module)\n",
      "  File \"<frozen importlib._bootstrap>\", line 630, in _exec\n",
      "  File \"<frozen importlib._bootstrap_external>\", line 728, in exec_module\n",
      "  File \"<frozen importlib._bootstrap>\", line 219, in _call_with_frames_removed\n",
      "  File \"C:\\ProgramData\\Anaconda3\\lib\\site-packages\\scipy\\stats\\stats.py\", line 189, in <module>\n",
      "    from ._stats import (_kendall_dis, _toint64, _weightedrankedtau,\n",
      "ImportError: cannot import name '_local_correlations' from 'scipy.stats._stats' (C:\\ProgramData\\Anaconda3\\lib\\site-packages\\scipy\\stats\\_stats.cp37-win_amd64.pyd)\n",
      "]\n",
      "[autoreload of scipy.special failed: Traceback (most recent call last):\n",
      "  File \"C:\\ProgramData\\Anaconda3\\lib\\site-packages\\IPython\\extensions\\autoreload.py\", line 245, in check\n",
      "    superreload(m, reload, self.old_objects)\n",
      "  File \"C:\\ProgramData\\Anaconda3\\lib\\site-packages\\IPython\\extensions\\autoreload.py\", line 434, in superreload\n",
      "    module = reload(module)\n",
      "  File \"C:\\ProgramData\\Anaconda3\\lib\\imp.py\", line 314, in reload\n",
      "    return importlib.reload(module)\n",
      "  File \"C:\\ProgramData\\Anaconda3\\lib\\importlib\\__init__.py\", line 169, in reload\n",
      "    _bootstrap._exec(spec, module)\n",
      "  File \"<frozen importlib._bootstrap>\", line 630, in _exec\n",
      "  File \"<frozen importlib._bootstrap_external>\", line 728, in exec_module\n",
      "  File \"<frozen importlib._bootstrap>\", line 219, in _call_with_frames_removed\n",
      "  File \"C:\\ProgramData\\Anaconda3\\lib\\site-packages\\scipy\\special\\__init__.py\", line 659, in <module>\n",
      "    __all__ = _ufuncs.__all__ + _basic.__all__ + orthogonal.__all__ + [\n",
      "AttributeError: module 'scipy.special._ufuncs' has no attribute '__all__'\n",
      "]\n",
      "[autoreload of scipy.linalg.blas failed: Traceback (most recent call last):\n",
      "  File \"C:\\ProgramData\\Anaconda3\\lib\\site-packages\\IPython\\extensions\\autoreload.py\", line 245, in check\n",
      "    superreload(m, reload, self.old_objects)\n",
      "  File \"C:\\ProgramData\\Anaconda3\\lib\\site-packages\\IPython\\extensions\\autoreload.py\", line 450, in superreload\n",
      "    update_generic(old_obj, new_obj)\n",
      "  File \"C:\\ProgramData\\Anaconda3\\lib\\site-packages\\IPython\\extensions\\autoreload.py\", line 387, in update_generic\n",
      "    update(a, b)\n",
      "  File \"C:\\ProgramData\\Anaconda3\\lib\\site-packages\\IPython\\extensions\\autoreload.py\", line 266, in update_function\n",
      "    setattr(old, name, getattr(new, name))\n",
      "ValueError: get_blas_funcs() requires a code object with 0 free vars, not 2\n",
      "]\n",
      "[autoreload of scipy.linalg.lapack failed: Traceback (most recent call last):\n",
      "  File \"C:\\ProgramData\\Anaconda3\\lib\\site-packages\\IPython\\extensions\\autoreload.py\", line 245, in check\n",
      "    superreload(m, reload, self.old_objects)\n",
      "  File \"C:\\ProgramData\\Anaconda3\\lib\\site-packages\\IPython\\extensions\\autoreload.py\", line 450, in superreload\n",
      "    update_generic(old_obj, new_obj)\n",
      "  File \"C:\\ProgramData\\Anaconda3\\lib\\site-packages\\IPython\\extensions\\autoreload.py\", line 387, in update_generic\n",
      "    update(a, b)\n",
      "  File \"C:\\ProgramData\\Anaconda3\\lib\\site-packages\\IPython\\extensions\\autoreload.py\", line 266, in update_function\n",
      "    setattr(old, name, getattr(new, name))\n",
      "ValueError: get_lapack_funcs() requires a code object with 0 free vars, not 2\n",
      "]\n",
      "[autoreload of scipy.sparse.linalg.isolve.iterative failed: Traceback (most recent call last):\n",
      "  File \"C:\\ProgramData\\Anaconda3\\lib\\site-packages\\IPython\\extensions\\autoreload.py\", line 245, in check\n",
      "    superreload(m, reload, self.old_objects)\n",
      "  File \"C:\\ProgramData\\Anaconda3\\lib\\site-packages\\IPython\\extensions\\autoreload.py\", line 434, in superreload\n",
      "    module = reload(module)\n",
      "  File \"C:\\ProgramData\\Anaconda3\\lib\\imp.py\", line 314, in reload\n",
      "    return importlib.reload(module)\n",
      "  File \"C:\\ProgramData\\Anaconda3\\lib\\importlib\\__init__.py\", line 169, in reload\n",
      "    _bootstrap._exec(spec, module)\n",
      "  File \"<frozen importlib._bootstrap>\", line 630, in _exec\n",
      "  File \"<frozen importlib._bootstrap_external>\", line 728, in exec_module\n",
      "  File \"<frozen importlib._bootstrap>\", line 219, in _call_with_frames_removed\n",
      "  File \"C:\\ProgramData\\Anaconda3\\lib\\site-packages\\scipy\\sparse\\linalg\\isolve\\iterative.py\", line 136, in <module>\n",
      "    def bicg(A, b, x0=None, tol=1e-5, maxiter=None, M=None, callback=None, atol=None):\n",
      "  File \"C:\\ProgramData\\Anaconda3\\lib\\site-packages\\scipy\\_lib\\_threadsafety.py\", line 59, in decorator\n",
      "    return lock.decorate(func)\n",
      "  File \"C:\\ProgramData\\Anaconda3\\lib\\site-packages\\scipy\\_lib\\_threadsafety.py\", line 47, in decorate\n",
      "    return scipy._lib.decorator.decorate(func, caller)\n",
      "AttributeError: module 'scipy' has no attribute '_lib'\n",
      "]\n",
      "[autoreload of scipy.optimize._linprog failed: Traceback (most recent call last):\n",
      "  File \"C:\\ProgramData\\Anaconda3\\lib\\site-packages\\IPython\\extensions\\autoreload.py\", line 245, in check\n",
      "    superreload(m, reload, self.old_objects)\n",
      "  File \"C:\\ProgramData\\Anaconda3\\lib\\site-packages\\IPython\\extensions\\autoreload.py\", line 434, in superreload\n",
      "    module = reload(module)\n",
      "  File \"C:\\ProgramData\\Anaconda3\\lib\\imp.py\", line 314, in reload\n",
      "    return importlib.reload(module)\n",
      "  File \"C:\\ProgramData\\Anaconda3\\lib\\importlib\\__init__.py\", line 169, in reload\n",
      "    _bootstrap._exec(spec, module)\n",
      "  File \"<frozen importlib._bootstrap>\", line 630, in _exec\n",
      "  File \"<frozen importlib._bootstrap_external>\", line 728, in exec_module\n",
      "  File \"<frozen importlib._bootstrap>\", line 219, in _call_with_frames_removed\n",
      "  File \"C:\\ProgramData\\Anaconda3\\lib\\site-packages\\scipy\\optimize\\_linprog.py\", line 27, in <module>\n",
      "    from ._linprog_util import (\n",
      "ImportError: cannot import name '_autoscale' from 'scipy.optimize._linprog_util' (C:\\ProgramData\\Anaconda3\\lib\\site-packages\\scipy\\optimize\\_linprog_util.py)\n",
      "]\n",
      "[autoreload of scipy.spatial.transform.rotation failed: Traceback (most recent call last):\n",
      "  File \"C:\\ProgramData\\Anaconda3\\lib\\site-packages\\IPython\\extensions\\autoreload.py\", line 245, in check\n",
      "    superreload(m, reload, self.old_objects)\n",
      "  File \"C:\\ProgramData\\Anaconda3\\lib\\site-packages\\IPython\\extensions\\autoreload.py\", line 450, in superreload\n",
      "    update_generic(old_obj, new_obj)\n",
      "  File \"C:\\ProgramData\\Anaconda3\\lib\\site-packages\\IPython\\extensions\\autoreload.py\", line 387, in update_generic\n",
      "    update(a, b)\n",
      "  File \"C:\\ProgramData\\Anaconda3\\lib\\site-packages\\IPython\\extensions\\autoreload.py\", line 342, in update_class\n",
      "    if update_generic(old_obj, new_obj): continue\n",
      "  File \"C:\\ProgramData\\Anaconda3\\lib\\site-packages\\IPython\\extensions\\autoreload.py\", line 387, in update_generic\n",
      "    update(a, b)\n",
      "  File \"C:\\ProgramData\\Anaconda3\\lib\\site-packages\\IPython\\extensions\\autoreload.py\", line 380, in <lambda>\n",
      "    lambda a, b: update_function(a.__func__, b.__func__)),\n",
      "  File \"C:\\ProgramData\\Anaconda3\\lib\\site-packages\\IPython\\extensions\\autoreload.py\", line 266, in update_function\n",
      "    setattr(old, name, getattr(new, name))\n",
      "ValueError: from_dcm() requires a code object with 0 free vars, not 2\n",
      "]\n",
      "[autoreload of scipy.integrate failed: Traceback (most recent call last):\n",
      "  File \"C:\\ProgramData\\Anaconda3\\lib\\site-packages\\IPython\\extensions\\autoreload.py\", line 245, in check\n",
      "    superreload(m, reload, self.old_objects)\n",
      "  File \"C:\\ProgramData\\Anaconda3\\lib\\site-packages\\IPython\\extensions\\autoreload.py\", line 434, in superreload\n",
      "    module = reload(module)\n",
      "  File \"C:\\ProgramData\\Anaconda3\\lib\\imp.py\", line 314, in reload\n",
      "    return importlib.reload(module)\n",
      "  File \"C:\\ProgramData\\Anaconda3\\lib\\importlib\\__init__.py\", line 169, in reload\n",
      "    _bootstrap._exec(spec, module)\n",
      "  File \"<frozen importlib._bootstrap>\", line 630, in _exec\n",
      "  File \"<frozen importlib._bootstrap_external>\", line 728, in exec_module\n",
      "  File \"<frozen importlib._bootstrap>\", line 219, in _call_with_frames_removed\n",
      "  File \"C:\\ProgramData\\Anaconda3\\lib\\site-packages\\scipy\\integrate\\__init__.py\", line 96, in <module>\n",
      "    from ._ivp import (solve_ivp, OdeSolution, DenseOutput,\n",
      "ImportError: cannot import name 'DOP853' from 'scipy.integrate._ivp' (C:\\ProgramData\\Anaconda3\\lib\\site-packages\\scipy\\integrate\\_ivp\\__init__.py)\n"
     ]
    },
    {
     "name": "stderr",
     "output_type": "stream",
     "text": [
      "]\n",
      "[autoreload of scipy.integrate._ivp failed: Traceback (most recent call last):\n",
      "  File \"C:\\ProgramData\\Anaconda3\\lib\\site-packages\\IPython\\extensions\\autoreload.py\", line 245, in check\n",
      "    superreload(m, reload, self.old_objects)\n",
      "  File \"C:\\ProgramData\\Anaconda3\\lib\\site-packages\\IPython\\extensions\\autoreload.py\", line 434, in superreload\n",
      "    module = reload(module)\n",
      "  File \"C:\\ProgramData\\Anaconda3\\lib\\imp.py\", line 314, in reload\n",
      "    return importlib.reload(module)\n",
      "  File \"C:\\ProgramData\\Anaconda3\\lib\\importlib\\__init__.py\", line 169, in reload\n",
      "    _bootstrap._exec(spec, module)\n",
      "  File \"<frozen importlib._bootstrap>\", line 630, in _exec\n",
      "  File \"<frozen importlib._bootstrap_external>\", line 728, in exec_module\n",
      "  File \"<frozen importlib._bootstrap>\", line 219, in _call_with_frames_removed\n",
      "  File \"C:\\ProgramData\\Anaconda3\\lib\\site-packages\\scipy\\integrate\\_ivp\\__init__.py\", line 5, in <module>\n",
      "    from .rk import RK23, RK45, DOP853\n",
      "ImportError: cannot import name 'DOP853' from 'scipy.integrate._ivp.rk' (C:\\ProgramData\\Anaconda3\\lib\\site-packages\\scipy\\integrate\\_ivp\\rk.py)\n",
      "]\n",
      "[autoreload of scipy.integrate._ivp.ivp failed: Traceback (most recent call last):\n",
      "  File \"C:\\ProgramData\\Anaconda3\\lib\\site-packages\\IPython\\extensions\\autoreload.py\", line 245, in check\n",
      "    superreload(m, reload, self.old_objects)\n",
      "  File \"C:\\ProgramData\\Anaconda3\\lib\\site-packages\\IPython\\extensions\\autoreload.py\", line 434, in superreload\n",
      "    module = reload(module)\n",
      "  File \"C:\\ProgramData\\Anaconda3\\lib\\imp.py\", line 314, in reload\n",
      "    return importlib.reload(module)\n",
      "  File \"C:\\ProgramData\\Anaconda3\\lib\\importlib\\__init__.py\", line 169, in reload\n",
      "    _bootstrap._exec(spec, module)\n",
      "  File \"<frozen importlib._bootstrap>\", line 630, in _exec\n",
      "  File \"<frozen importlib._bootstrap_external>\", line 728, in exec_module\n",
      "  File \"<frozen importlib._bootstrap>\", line 219, in _call_with_frames_removed\n",
      "  File \"C:\\ProgramData\\Anaconda3\\lib\\site-packages\\scipy\\integrate\\_ivp\\ivp.py\", line 6, in <module>\n",
      "    from .rk import RK23, RK45, DOP853\n",
      "ImportError: cannot import name 'DOP853' from 'scipy.integrate._ivp.rk' (C:\\ProgramData\\Anaconda3\\lib\\site-packages\\scipy\\integrate\\_ivp\\rk.py)\n",
      "]\n"
     ]
    },
    {
     "data": {
      "text/plain": [
       "{0: ['random', 'circle'], 1: ['play']}"
      ]
     },
     "execution_count": 10,
     "metadata": {},
     "output_type": "execute_result"
    }
   ],
   "source": []
  },
  {
   "cell_type": "code",
   "execution_count": null,
   "metadata": {},
   "outputs": [],
   "source": []
  }
 ],
 "metadata": {
  "kernelspec": {
   "display_name": "Python 3",
   "language": "python",
   "name": "python3"
  },
  "language_info": {
   "codemirror_mode": {
    "name": "ipython",
    "version": 3
   },
   "file_extension": ".py",
   "mimetype": "text/x-python",
   "name": "python",
   "nbconvert_exporter": "python",
   "pygments_lexer": "ipython3",
   "version": "3.7.4"
  },
  "toc": {
   "base_numbering": 1,
   "nav_menu": {},
   "number_sections": true,
   "sideBar": true,
   "skip_h1_title": false,
   "title_cell": "Table of Contents",
   "title_sidebar": "Contents",
   "toc_cell": false,
   "toc_position": {},
   "toc_section_display": true,
   "toc_window_display": true
  }
 },
 "nbformat": 4,
 "nbformat_minor": 2
}
